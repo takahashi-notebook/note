{
 "cells": [
  {
   "cell_type": "markdown",
   "metadata": {},
   "source": [
    "# Deep Leraning用のライブラリ\n",
    "\n",
    "## モデルの記述方式の分類  \n",
    "①モデルのレイヤーを宣言的に定義する宣言型 Symbolic API (Define-and-Run)  \n",
    "②フォワードとパスを命令的に記述する命令型 Imperative API (Define-by-Run) \n",
    "\n",
    "## Tensor Flow 使い方  \n",
    "①モデルのレイヤーを宣言的に定義する宣言型 Symbolic API (Define-and-Run) Sequential model  \n",
    "・tf.keras.models.Sequentialクラスのコンストラクターを利用する。  \n",
    "・tf.keras.models.Sequentialオブジェクトのaddメソッドを利用する。  \n",
    "・tf.keras.Modelクラスのコンストラクターを利用する。  \n",
    "②フォワードとパスを命令的に記述する命令型 Imperative API (Define-by-Run)　Functional API  \n",
    "・tf.keras.Modelクラスをサブクラス化する  \n",
    "・tensorflow低水準APIを利用する。  \n",
    "・tf.estimator.Estimatorの作成済みモデル（将来廃止予定）\n",
    "\n",
    "## TensorflowとPytorchの違い\n",
    "1. channel last / channel first\n",
    "Tensorflow Pytorch\n",
    "[B, H, W, C] / [B, C, H, W]\n",
    "→channelの位置が異なる\n",
    "2. in_featuresの有無\n",
    "→pytorchはin_featuresが必要"
   ]
  },
  {
   "cell_type": "code",
   "execution_count": null,
   "metadata": {},
   "outputs": [],
   "source": [
    "class TFCustomModel(tf.keras.Model):\n",
    "    def __init__(self):\n",
    "        super(TFCustomModel, self).__init__()\n",
    "        self.flatten = layers.Flatten()\n",
    "        self.dense1 = layers.Dense(512)\n",
    "        self.dense2 = layers.Dense(256)\n",
    "        self.dense3 = layers.Dense(10)\n",
    "    def call(self, x):\n",
    "        x = self.flatten(x)\n",
    "        x = tf.nn.relu(self.dense1(x))\n",
    "        x = tf.nn.relu(self.dense2(x))\n",
    "        x = tf.nn.softmax(self.dense3(x))\n",
    "        return x\n",
    "tf_model = TFCustomModel()\n",
    "\n",
    "class CustomModel(nn.Module):\n",
    "    def __init__(self):\n",
    "        super(CustomModel, self).__init__()\n",
    "        self.dense1 = nn.Linear(784, 512)\n",
    "        self.dense2 = nn.Linear(512, 256)\n",
    "        self.dense3 = nn.Linear(256, 10)\n",
    "    def forward(self, x):\n",
    "        x = x.view(-1, 784)\n",
    "        x = F.relu(self.dense1(x))\n",
    "        x = F.relu(self.dense2(x))\n",
    "        x = F.softmax(self.dense3(x))\n",
    "        return x\n",
    "torch_model = CustomModel()"
   ]
  }
 ],
 "metadata": {
  "kernelspec": {
   "display_name": ".ml",
   "language": "python",
   "name": "python3"
  },
  "language_info": {
   "codemirror_mode": {
    "name": "ipython",
    "version": 3
   },
   "file_extension": ".py",
   "mimetype": "text/x-python",
   "name": "python",
   "nbconvert_exporter": "python",
   "pygments_lexer": "ipython3",
   "version": "3.11.7"
  }
 },
 "nbformat": 4,
 "nbformat_minor": 2
}
